{
  "nbformat": 4,
  "nbformat_minor": 0,
  "metadata": {
    "colab": {
      "name": "main.ipynb",
      "provenance": [],
      "toc_visible": true,
      "authorship_tag": "ABX9TyMerKNW2+URkGhPnyyN0a8e",
      "include_colab_link": true
    },
    "kernelspec": {
      "name": "python3",
      "display_name": "Python 3"
    },
    "accelerator": "GPU"
  },
  "cells": [
    {
      "cell_type": "markdown",
      "metadata": {
        "id": "view-in-github",
        "colab_type": "text"
      },
      "source": [
        "<a href=\"https://colab.research.google.com/github/aloksingh3110/machine_translation/blob/master/main.ipynb\" target=\"_parent\"><img src=\"https://colab.research.google.com/assets/colab-badge.svg\" alt=\"Open In Colab\"/></a>"
      ]
    },
    {
      "cell_type": "markdown",
      "metadata": {
        "id": "rK_Os3OKFCHm",
        "colab_type": "text"
      },
      "source": [
        "\n",
        "Import the required libraries"
      ]
    },
    {
      "cell_type": "code",
      "metadata": {
        "id": "Ni9aFXMOE6PN",
        "colab_type": "code",
        "colab": {
          "base_uri": "https://localhost:8080/",
          "height": 80
        },
        "outputId": "15a66b9b-b186-40d6-85ac-1a16baf69151"
      },
      "source": [
        "import pandas as pd\n",
        "import numpy as np\n",
        "import string\n",
        "from string import digits\n",
        "import matplotlib.pyplot as plt\n",
        "%matplotlib inline\n",
        "import re\n",
        "from sklearn.utils import shuffle\n",
        "from sklearn.model_selection import train_test_split\n",
        "from keras.layers import Input, LSTM, Embedding, Dense\n",
        "from keras.models import Model"
      ],
      "execution_count": 1,
      "outputs": [
        {
          "output_type": "stream",
          "text": [
            "Using TensorFlow backend.\n"
          ],
          "name": "stderr"
        },
        {
          "output_type": "display_data",
          "data": {
            "text/html": [
              "<p style=\"color: red;\">\n",
              "The default version of TensorFlow in Colab will soon switch to TensorFlow 2.x.<br>\n",
              "We recommend you <a href=\"https://www.tensorflow.org/guide/migrate\" target=\"_blank\">upgrade</a> now \n",
              "or ensure your notebook will continue to use TensorFlow 1.x via the <code>%tensorflow_version 1.x</code> magic:\n",
              "<a href=\"https://colab.research.google.com/notebooks/tensorflow_version.ipynb\" target=\"_blank\">more info</a>.</p>\n"
            ],
            "text/plain": [
              "<IPython.core.display.HTML object>"
            ]
          },
          "metadata": {
            "tags": []
          }
        }
      ]
    },
    {
      "cell_type": "markdown",
      "metadata": {
        "id": "agYrPiP_FSrE",
        "colab_type": "text"
      },
      "source": [
        "Read Data"
      ]
    },
    {
      "cell_type": "code",
      "metadata": {
        "id": "DbK5A0l_FPeV",
        "colab_type": "code",
        "colab": {
          "base_uri": "https://localhost:8080/",
          "height": 443
        },
        "outputId": "fab466d1-f0d0-4aba-8c22-195fab0d0158"
      },
      "source": [
        "# Path to the data txt file on disk.\n",
        "data_path = \"\\\\NMT\\\\spa-eng\\\\spa.txt\"\n",
        "# open the file eng-spa.txt and read\n",
        "lines= pd.read_table(data_path,  names =['source', 'target', 'comments'])\n",
        "#printing sample data from lines\n",
        "lines.sample(6)"
      ],
      "execution_count": 2,
      "outputs": [
        {
          "output_type": "error",
          "ename": "FileNotFoundError",
          "evalue": "ignored",
          "traceback": [
            "\u001b[0;31m---------------------------------------------------------------------------\u001b[0m",
            "\u001b[0;31mFileNotFoundError\u001b[0m                         Traceback (most recent call last)",
            "\u001b[0;32m<ipython-input-2-463bb28631e3>\u001b[0m in \u001b[0;36m<module>\u001b[0;34m()\u001b[0m\n\u001b[1;32m      1\u001b[0m \u001b[0mdata_path\u001b[0m \u001b[0;34m=\u001b[0m \u001b[0;34m\"\\\\NMT\\\\spa-eng\\\\spa.txt\"\u001b[0m\u001b[0;34m\u001b[0m\u001b[0;34m\u001b[0m\u001b[0m\n\u001b[1;32m      2\u001b[0m \u001b[0;31m# open the file eng-spa.txt and read\u001b[0m\u001b[0;34m\u001b[0m\u001b[0;34m\u001b[0m\u001b[0;34m\u001b[0m\u001b[0m\n\u001b[0;32m----> 3\u001b[0;31m \u001b[0mlines\u001b[0m\u001b[0;34m=\u001b[0m \u001b[0mpd\u001b[0m\u001b[0;34m.\u001b[0m\u001b[0mread_table\u001b[0m\u001b[0;34m(\u001b[0m\u001b[0mdata_path\u001b[0m\u001b[0;34m,\u001b[0m  \u001b[0mnames\u001b[0m \u001b[0;34m=\u001b[0m\u001b[0;34m[\u001b[0m\u001b[0;34m'source'\u001b[0m\u001b[0;34m,\u001b[0m \u001b[0;34m'target'\u001b[0m\u001b[0;34m,\u001b[0m \u001b[0;34m'comments'\u001b[0m\u001b[0;34m]\u001b[0m\u001b[0;34m)\u001b[0m\u001b[0;34m\u001b[0m\u001b[0;34m\u001b[0m\u001b[0m\n\u001b[0m\u001b[1;32m      4\u001b[0m \u001b[0;31m#printing sample data from lines\u001b[0m\u001b[0;34m\u001b[0m\u001b[0;34m\u001b[0m\u001b[0;34m\u001b[0m\u001b[0m\n\u001b[1;32m      5\u001b[0m \u001b[0mlines\u001b[0m\u001b[0;34m.\u001b[0m\u001b[0msample\u001b[0m\u001b[0;34m(\u001b[0m\u001b[0;36m6\u001b[0m\u001b[0;34m)\u001b[0m\u001b[0;34m\u001b[0m\u001b[0;34m\u001b[0m\u001b[0m\n",
            "\u001b[0;32m/usr/local/lib/python3.6/dist-packages/pandas/io/parsers.py\u001b[0m in \u001b[0;36mparser_f\u001b[0;34m(filepath_or_buffer, sep, delimiter, header, names, index_col, usecols, squeeze, prefix, mangle_dupe_cols, dtype, engine, converters, true_values, false_values, skipinitialspace, skiprows, skipfooter, nrows, na_values, keep_default_na, na_filter, verbose, skip_blank_lines, parse_dates, infer_datetime_format, keep_date_col, date_parser, dayfirst, cache_dates, iterator, chunksize, compression, thousands, decimal, lineterminator, quotechar, quoting, doublequote, escapechar, comment, encoding, dialect, error_bad_lines, warn_bad_lines, delim_whitespace, low_memory, memory_map, float_precision)\u001b[0m\n\u001b[1;32m    683\u001b[0m         )\n\u001b[1;32m    684\u001b[0m \u001b[0;34m\u001b[0m\u001b[0m\n\u001b[0;32m--> 685\u001b[0;31m         \u001b[0;32mreturn\u001b[0m \u001b[0m_read\u001b[0m\u001b[0;34m(\u001b[0m\u001b[0mfilepath_or_buffer\u001b[0m\u001b[0;34m,\u001b[0m \u001b[0mkwds\u001b[0m\u001b[0;34m)\u001b[0m\u001b[0;34m\u001b[0m\u001b[0;34m\u001b[0m\u001b[0m\n\u001b[0m\u001b[1;32m    686\u001b[0m \u001b[0;34m\u001b[0m\u001b[0m\n\u001b[1;32m    687\u001b[0m     \u001b[0mparser_f\u001b[0m\u001b[0;34m.\u001b[0m\u001b[0m__name__\u001b[0m \u001b[0;34m=\u001b[0m \u001b[0mname\u001b[0m\u001b[0;34m\u001b[0m\u001b[0;34m\u001b[0m\u001b[0m\n",
            "\u001b[0;32m/usr/local/lib/python3.6/dist-packages/pandas/io/parsers.py\u001b[0m in \u001b[0;36m_read\u001b[0;34m(filepath_or_buffer, kwds)\u001b[0m\n\u001b[1;32m    455\u001b[0m \u001b[0;34m\u001b[0m\u001b[0m\n\u001b[1;32m    456\u001b[0m     \u001b[0;31m# Create the parser.\u001b[0m\u001b[0;34m\u001b[0m\u001b[0;34m\u001b[0m\u001b[0;34m\u001b[0m\u001b[0m\n\u001b[0;32m--> 457\u001b[0;31m     \u001b[0mparser\u001b[0m \u001b[0;34m=\u001b[0m \u001b[0mTextFileReader\u001b[0m\u001b[0;34m(\u001b[0m\u001b[0mfp_or_buf\u001b[0m\u001b[0;34m,\u001b[0m \u001b[0;34m**\u001b[0m\u001b[0mkwds\u001b[0m\u001b[0;34m)\u001b[0m\u001b[0;34m\u001b[0m\u001b[0;34m\u001b[0m\u001b[0m\n\u001b[0m\u001b[1;32m    458\u001b[0m \u001b[0;34m\u001b[0m\u001b[0m\n\u001b[1;32m    459\u001b[0m     \u001b[0;32mif\u001b[0m \u001b[0mchunksize\u001b[0m \u001b[0;32mor\u001b[0m \u001b[0miterator\u001b[0m\u001b[0;34m:\u001b[0m\u001b[0;34m\u001b[0m\u001b[0;34m\u001b[0m\u001b[0m\n",
            "\u001b[0;32m/usr/local/lib/python3.6/dist-packages/pandas/io/parsers.py\u001b[0m in \u001b[0;36m__init__\u001b[0;34m(self, f, engine, **kwds)\u001b[0m\n\u001b[1;32m    893\u001b[0m             \u001b[0mself\u001b[0m\u001b[0;34m.\u001b[0m\u001b[0moptions\u001b[0m\u001b[0;34m[\u001b[0m\u001b[0;34m\"has_index_names\"\u001b[0m\u001b[0;34m]\u001b[0m \u001b[0;34m=\u001b[0m \u001b[0mkwds\u001b[0m\u001b[0;34m[\u001b[0m\u001b[0;34m\"has_index_names\"\u001b[0m\u001b[0;34m]\u001b[0m\u001b[0;34m\u001b[0m\u001b[0;34m\u001b[0m\u001b[0m\n\u001b[1;32m    894\u001b[0m \u001b[0;34m\u001b[0m\u001b[0m\n\u001b[0;32m--> 895\u001b[0;31m         \u001b[0mself\u001b[0m\u001b[0;34m.\u001b[0m\u001b[0m_make_engine\u001b[0m\u001b[0;34m(\u001b[0m\u001b[0mself\u001b[0m\u001b[0;34m.\u001b[0m\u001b[0mengine\u001b[0m\u001b[0;34m)\u001b[0m\u001b[0;34m\u001b[0m\u001b[0;34m\u001b[0m\u001b[0m\n\u001b[0m\u001b[1;32m    896\u001b[0m \u001b[0;34m\u001b[0m\u001b[0m\n\u001b[1;32m    897\u001b[0m     \u001b[0;32mdef\u001b[0m \u001b[0mclose\u001b[0m\u001b[0;34m(\u001b[0m\u001b[0mself\u001b[0m\u001b[0;34m)\u001b[0m\u001b[0;34m:\u001b[0m\u001b[0;34m\u001b[0m\u001b[0;34m\u001b[0m\u001b[0m\n",
            "\u001b[0;32m/usr/local/lib/python3.6/dist-packages/pandas/io/parsers.py\u001b[0m in \u001b[0;36m_make_engine\u001b[0;34m(self, engine)\u001b[0m\n\u001b[1;32m   1133\u001b[0m     \u001b[0;32mdef\u001b[0m \u001b[0m_make_engine\u001b[0m\u001b[0;34m(\u001b[0m\u001b[0mself\u001b[0m\u001b[0;34m,\u001b[0m \u001b[0mengine\u001b[0m\u001b[0;34m=\u001b[0m\u001b[0;34m\"c\"\u001b[0m\u001b[0;34m)\u001b[0m\u001b[0;34m:\u001b[0m\u001b[0;34m\u001b[0m\u001b[0;34m\u001b[0m\u001b[0m\n\u001b[1;32m   1134\u001b[0m         \u001b[0;32mif\u001b[0m \u001b[0mengine\u001b[0m \u001b[0;34m==\u001b[0m \u001b[0;34m\"c\"\u001b[0m\u001b[0;34m:\u001b[0m\u001b[0;34m\u001b[0m\u001b[0;34m\u001b[0m\u001b[0m\n\u001b[0;32m-> 1135\u001b[0;31m             \u001b[0mself\u001b[0m\u001b[0;34m.\u001b[0m\u001b[0m_engine\u001b[0m \u001b[0;34m=\u001b[0m \u001b[0mCParserWrapper\u001b[0m\u001b[0;34m(\u001b[0m\u001b[0mself\u001b[0m\u001b[0;34m.\u001b[0m\u001b[0mf\u001b[0m\u001b[0;34m,\u001b[0m \u001b[0;34m**\u001b[0m\u001b[0mself\u001b[0m\u001b[0;34m.\u001b[0m\u001b[0moptions\u001b[0m\u001b[0;34m)\u001b[0m\u001b[0;34m\u001b[0m\u001b[0;34m\u001b[0m\u001b[0m\n\u001b[0m\u001b[1;32m   1136\u001b[0m         \u001b[0;32melse\u001b[0m\u001b[0;34m:\u001b[0m\u001b[0;34m\u001b[0m\u001b[0;34m\u001b[0m\u001b[0m\n\u001b[1;32m   1137\u001b[0m             \u001b[0;32mif\u001b[0m \u001b[0mengine\u001b[0m \u001b[0;34m==\u001b[0m \u001b[0;34m\"python\"\u001b[0m\u001b[0;34m:\u001b[0m\u001b[0;34m\u001b[0m\u001b[0;34m\u001b[0m\u001b[0m\n",
            "\u001b[0;32m/usr/local/lib/python3.6/dist-packages/pandas/io/parsers.py\u001b[0m in \u001b[0;36m__init__\u001b[0;34m(self, src, **kwds)\u001b[0m\n\u001b[1;32m   1915\u001b[0m         \u001b[0mkwds\u001b[0m\u001b[0;34m[\u001b[0m\u001b[0;34m\"usecols\"\u001b[0m\u001b[0;34m]\u001b[0m \u001b[0;34m=\u001b[0m \u001b[0mself\u001b[0m\u001b[0;34m.\u001b[0m\u001b[0musecols\u001b[0m\u001b[0;34m\u001b[0m\u001b[0;34m\u001b[0m\u001b[0m\n\u001b[1;32m   1916\u001b[0m \u001b[0;34m\u001b[0m\u001b[0m\n\u001b[0;32m-> 1917\u001b[0;31m         \u001b[0mself\u001b[0m\u001b[0;34m.\u001b[0m\u001b[0m_reader\u001b[0m \u001b[0;34m=\u001b[0m \u001b[0mparsers\u001b[0m\u001b[0;34m.\u001b[0m\u001b[0mTextReader\u001b[0m\u001b[0;34m(\u001b[0m\u001b[0msrc\u001b[0m\u001b[0;34m,\u001b[0m \u001b[0;34m**\u001b[0m\u001b[0mkwds\u001b[0m\u001b[0;34m)\u001b[0m\u001b[0;34m\u001b[0m\u001b[0;34m\u001b[0m\u001b[0m\n\u001b[0m\u001b[1;32m   1918\u001b[0m         \u001b[0mself\u001b[0m\u001b[0;34m.\u001b[0m\u001b[0munnamed_cols\u001b[0m \u001b[0;34m=\u001b[0m \u001b[0mself\u001b[0m\u001b[0;34m.\u001b[0m\u001b[0m_reader\u001b[0m\u001b[0;34m.\u001b[0m\u001b[0munnamed_cols\u001b[0m\u001b[0;34m\u001b[0m\u001b[0;34m\u001b[0m\u001b[0m\n\u001b[1;32m   1919\u001b[0m \u001b[0;34m\u001b[0m\u001b[0m\n",
            "\u001b[0;32mpandas/_libs/parsers.pyx\u001b[0m in \u001b[0;36mpandas._libs.parsers.TextReader.__cinit__\u001b[0;34m()\u001b[0m\n",
            "\u001b[0;32mpandas/_libs/parsers.pyx\u001b[0m in \u001b[0;36mpandas._libs.parsers.TextReader._setup_parser_source\u001b[0;34m()\u001b[0m\n",
            "\u001b[0;31mFileNotFoundError\u001b[0m: [Errno 2] File b'\\\\NMT\\\\spa-eng\\\\spa.txt' does not exist: b'\\\\NMT\\\\spa-eng\\\\spa.txt'"
          ]
        }
      ]
    },
    {
      "cell_type": "markdown",
      "metadata": {
        "id": "AOjWgam9FYZc",
        "colab_type": "text"
      },
      "source": [
        "Clean the source and target sentences.\n",
        "\n",
        "Convert text to lower case\n",
        "Remove quotes\n",
        "Remove all special characters like “@, !, *, $, #, ?, %, etc.”\n",
        "Clean digits from the source and target sentences. If the source or the target language use different symbols for the numbers, then remove those symbols\n",
        "Remove spaces"
      ]
    },
    {
      "cell_type": "code",
      "metadata": {
        "id": "1TABP7uxFV7k",
        "colab_type": "code",
        "colab": {}
      },
      "source": [
        "# convert source and target text to Lowercase \n",
        "lines.source=lines.source.apply(lambda x: x.lower())\n",
        "lines.target=lines.target.apply(lambda x: x.lower())\n",
        "# Remove quotes from source and target text\n",
        "lines.source=lines.source.apply(lambda x: re.sub(\"'\", '', x))\n",
        "lines.target=lines.target.apply(lambda x: re.sub(\"'\", '', x))\n",
        "# create a set of all special characters\n",
        "special_characters= set(string.punctuation)\n",
        "# Remove all the special characters\n",
        "lines.source = lines.source.apply(lambda x: ''.join(char1 for char1 in x if char1 not in special_characters))\n",
        "lines.target = lines.target.apply(lambda x: ''.join(char1 for char1 in x if char1 not in special_characters))\n",
        "# Remove digits from source and target sentences\n",
        "num_digits= str.maketrans('','', digits)\n",
        "lines.source=lines.source.apply(lambda x: x.translate(num_digits))\n",
        "lines.target= lines.target.apply(lambda x: x.translate(num_digits))\n",
        "# Remove extra spaces\n",
        "lines.source=lines.source.apply(lambda x: x.strip())\n",
        "lines.target=lines.target.apply(lambda x: x.strip())\n",
        "lines.source=lines.source.apply(lambda x: re.sub(\" +\", \" \", x))\n",
        "lines.target=lines.target.apply(lambda x: re.sub(\" +\", \" \", x))"
      ],
      "execution_count": 0,
      "outputs": []
    },
    {
      "cell_type": "markdown",
      "metadata": {
        "id": "1Fz09RyaFoHr",
        "colab_type": "text"
      },
      "source": [
        "Add the START_ and the _END tags to the target sentences."
      ]
    },
    {
      "cell_type": "code",
      "metadata": {
        "id": "Huqq-9DNFq90",
        "colab_type": "code",
        "colab": {}
      },
      "source": [
        "# Add start and end tokens to target sequences\n",
        "lines.target = lines.target.apply(lambda x : 'START_ '+ x + ' _END')\n",
        "lines.sample(6)"
      ],
      "execution_count": 0,
      "outputs": []
    },
    {
      "cell_type": "markdown",
      "metadata": {
        "id": "oGjoLXs-FwIL",
        "colab_type": "text"
      },
      "source": [
        "Create a set of unique words both for source and target language from the dataset and sort them alphabetically"
      ]
    },
    {
      "cell_type": "code",
      "metadata": {
        "id": "E1tDzNzCFzp0",
        "colab_type": "code",
        "colab": {}
      },
      "source": [
        "# Find all the source and target words and sort them\n",
        "# Vocabulary of Source language\n",
        "all_source_words=set()\n",
        "for source in lines.source:\n",
        "    for word in source.split():\n",
        "        if word not in all_source_words:\n",
        "            all_source_words.add(word)\n",
        "# Vocabulary of Target \n",
        "all_target_words=set()\n",
        "for target in lines.target:\n",
        "    for word in target.split():\n",
        "        if word not in all_target_words:\n",
        "            all_target_words.add(word)\n",
        "# sort all unique source and target words\n",
        "source_words= sorted(list(all_source_words))\n",
        "target_words=sorted(list(all_target_words))"
      ],
      "execution_count": 0,
      "outputs": []
    },
    {
      "cell_type": "markdown",
      "metadata": {
        "id": "8iWY5dNBF2jr",
        "colab_type": "text"
      },
      "source": [
        "Find the maximum length of the source and target sentences in the dataset"
      ]
    },
    {
      "cell_type": "code",
      "metadata": {
        "id": "L967yKU0F5JE",
        "colab_type": "code",
        "colab": {}
      },
      "source": [
        "#Find maximum sentence length in  the source and target data\n",
        "source_length_list=[]\n",
        "for l in lines.source:\n",
        "    source_length_list.append(len(l.split(' ')))\n",
        "max_source_length= max(source_length_list)\n",
        "print(\" Max length of the source sentence\",max_source_length)\n",
        "target_length_list=[]\n",
        "for l in lines.target:\n",
        "    target_length_list.append(len(l.split(' ')))\n",
        "max_target_length= max(target_length_list)\n",
        "print(\" Max length of the target sentence\",max_target_length)"
      ],
      "execution_count": 0,
      "outputs": []
    },
    {
      "cell_type": "markdown",
      "metadata": {
        "id": "8h0KdX65F9vz",
        "colab_type": "text"
      },
      "source": [
        "Create a word to index dictionary and an index to word dictionary for all unique source and target words in the dataset."
      ]
    },
    {
      "cell_type": "code",
      "metadata": {
        "id": "m6YCWvBsF7gz",
        "colab_type": "code",
        "colab": {}
      },
      "source": [
        "# creating a word to index(word2idx) for source and target\n",
        "source_word2idx= dict([(word, i+1) for i,word in enumerate(source_words)])\n",
        "target_word2idx=dict([(word, i+1) for i, word in enumerate(target_words)])"
      ],
      "execution_count": 0,
      "outputs": []
    },
    {
      "cell_type": "code",
      "metadata": {
        "id": "v_xk5qA2GCxT",
        "colab_type": "code",
        "colab": {}
      },
      "source": [
        "#creating a dictionary for index to word for source and target vocabulary\n",
        "source_idx2word= dict([(i, word) for word, i in  source_word2idx.items()])\n",
        "print(source_idx2word)\n",
        "target_idx2word =dict([(i, word) for word, i in target_word2idx.items()])"
      ],
      "execution_count": 0,
      "outputs": []
    },
    {
      "cell_type": "markdown",
      "metadata": {
        "id": "-_q67jOpGFJD",
        "colab_type": "text"
      },
      "source": [
        "Shuffle the data\n",
        "Shuffling helps with\n",
        "Reducing variance\n",
        "Ensures models remain generic and overfit less\n",
        "Batches between epochs do not look alike\n",
        "Makes model more robust"
      ]
    },
    {
      "cell_type": "code",
      "metadata": {
        "id": "ZTBaizJ6GF0E",
        "colab_type": "code",
        "colab": {}
      },
      "source": [
        "#Shuffle the data\n",
        "lines = shuffle(lines)"
      ],
      "execution_count": 0,
      "outputs": []
    },
    {
      "cell_type": "markdown",
      "metadata": {
        "id": "k7nxB_OxGLQL",
        "colab_type": "text"
      },
      "source": [
        "Creating training and test dataset"
      ]
    },
    {
      "cell_type": "code",
      "metadata": {
        "id": "sofJ8kcOGOAz",
        "colab_type": "code",
        "colab": {}
      },
      "source": [
        "# Train - Test Split\n",
        "X, y = lines.source, lines.target\n",
        "X_train, X_test, y_train, y_test = train_test_split(X, y, test_size = 0.1)\n",
        "X_train.shape, X_test.shape"
      ],
      "execution_count": 0,
      "outputs": []
    },
    {
      "cell_type": "markdown",
      "metadata": {
        "id": "fdY5PCzTGSGz",
        "colab_type": "text"
      },
      "source": [
        "Create data for training the encoder-decoder model.\n",
        "We will use fit_generator() instead of the fit() method as our data is too large to fit into the memory. fit_generator() needs an underlying function to generate the data."
      ]
    },
    {
      "cell_type": "code",
      "metadata": {
        "id": "ao062rHGGSuT",
        "colab_type": "code",
        "colab": {}
      },
      "source": [
        "# Input tokens for encoder\n",
        "num_encoder_tokens=len(source_words)\n",
        "# Input tokens for decoder zero padded\n",
        "num_decoder_tokens=len(target_words) +1"
      ],
      "execution_count": 0,
      "outputs": []
    },
    {
      "cell_type": "markdown",
      "metadata": {
        "id": "UzRkJfQ4GV9b",
        "colab_type": "text"
      },
      "source": [
        "We now create the generator_batch function()"
      ]
    },
    {
      "cell_type": "code",
      "metadata": {
        "id": "6EYj2Ks-GX47",
        "colab_type": "code",
        "colab": {}
      },
      "source": [
        "def generate_batch(X = X_train, y = y_train, batch_size = 128):\n",
        "    ''' Generate a batch of data '''\n",
        "    while True:\n",
        "        for j in range(0, len(X), batch_size):\n",
        "            encoder_input_data = np.zeros((batch_size, max_source_length),dtype='float32')\n",
        "            decoder_input_data = np.zeros((batch_size, max_target_length),dtype='float32')\n",
        "            decoder_target_data = np.zeros((batch_size, max_target_length, num_decoder_tokens),dtype='float32')\n",
        "            for i, (input_text, target_text) in enumerate(zip(X[j:j+batch_size], y[j:j+batch_size])):\n",
        "                for t, word in enumerate(input_text.split()):\n",
        "encoder_input_data[i, t] = source_word2idx[word] \n",
        "                for t, word in enumerate(target_text.split()):\n",
        "                    if t<len(target_text.split())-1:\n",
        "                        decoder_input_data[i, t] = target_word2idx[word] # decoder input seq\n",
        "                    if t>0:\n",
        "                        # decoder target sequence (one hot encoded)\n",
        "                        # does not include the START_ token\n",
        "                        # Offset by one timestep\n",
        "                        #print(word)\n",
        "                        decoder_target_data[i, t - 1, target_word2idx[word]] = 1.\n",
        "                    \n",
        "            yield([encoder_input_data, decoder_input_data], decoder_target_data)"
      ],
      "execution_count": 0,
      "outputs": []
    },
    {
      "cell_type": "markdown",
      "metadata": {
        "id": "J2LtH2u9Ge-K",
        "colab_type": "text"
      },
      "source": [
        "Build the sequence to sequence model\n",
        "Setup basic parameters\n",
        "We set the necessary parameters like\n",
        "number of training samples\n",
        "number of validation samples\n",
        "batch_size used for creating the training data\n",
        "Epochs to train on\n",
        "The latent dimension of the encoding space"
      ]
    },
    {
      "cell_type": "code",
      "metadata": {
        "id": "-h4cQS2cGaQT",
        "colab_type": "code",
        "colab": {}
      },
      "source": [
        "train_samples = len(X_train)\n",
        "val_samples = len(X_test)\n",
        "batch_size = 128\n",
        "epochs = 50\n",
        "latent_dim=256"
      ],
      "execution_count": 0,
      "outputs": []
    },
    {
      "cell_type": "markdown",
      "metadata": {
        "id": "4rZGyfBbGjpa",
        "colab_type": "text"
      },
      "source": [
        "Build the Encoder"
      ]
    },
    {
      "cell_type": "code",
      "metadata": {
        "id": "e1KD-qR0GmuD",
        "colab_type": "code",
        "colab": {}
      },
      "source": [
        "# Define an input sequence and process it.\n",
        "encoder_inputs = Input(shape=(None,))\n",
        "enc_emb =  Embedding(num_encoder_tokens, latent_dim, mask_zero = True)(encoder_inputs)\n",
        "encoder_lstm = LSTM(latent_dim, return_state=True)\n",
        "encoder_outputs, state_h, state_c = encoder_lstm(enc_emb)\n",
        "# We discard `encoder_outputs` and only keep the states.\n",
        "encoder_states = [state_h, state_c]"
      ],
      "execution_count": 0,
      "outputs": []
    },
    {
      "cell_type": "markdown",
      "metadata": {
        "id": "8TUPES8RGqvE",
        "colab_type": "text"
      },
      "source": [
        "Build the Decoder"
      ]
    },
    {
      "cell_type": "code",
      "metadata": {
        "id": "lSMhK81XGsfi",
        "colab_type": "code",
        "colab": {}
      },
      "source": [
        "# Set up the decoder, using `encoder_states` as initial state.\n",
        "decoder_inputs = Input(shape=(None,))\n",
        "dec_emb_layer = Embedding(num_decoder_tokens, latent_dim, mask_zero = True)\n",
        "dec_emb = dec_emb_layer(decoder_inputs)\n",
        "# We set up our decoder to return full output sequences,\n",
        "# and to return internal states as well. We don't use the\n",
        "# return states in the training model, but we will use them in inference.\n",
        "decoder_lstm = LSTM(latent_dim, return_sequences=True, return_state=True)\n",
        "decoder_outputs, _, _ = decoder_lstm(dec_emb,\n",
        "                                     initial_state=encoder_states)\n",
        "decoder_dense = Dense(num_decoder_tokens, activation='softmax')\n",
        "decoder_outputs = decoder_dense(decoder_outputs)"
      ],
      "execution_count": 0,
      "outputs": []
    },
    {
      "cell_type": "markdown",
      "metadata": {
        "id": "-T6Bbz4RGukD",
        "colab_type": "text"
      },
      "source": [
        "Define the model\n"
      ]
    },
    {
      "cell_type": "code",
      "metadata": {
        "id": "f48zG0svGyWi",
        "colab_type": "code",
        "colab": {}
      },
      "source": [
        "# Define the model that takes encoder and decoder input \n",
        "# to output decoder_outputs\n",
        "model = Model([encoder_inputs, decoder_inputs], decoder_outputs)"
      ],
      "execution_count": 0,
      "outputs": []
    },
    {
      "cell_type": "markdown",
      "metadata": {
        "id": "NHYGoYdYG0xy",
        "colab_type": "text"
      },
      "source": [
        "Train the model"
      ]
    },
    {
      "cell_type": "code",
      "metadata": {
        "id": "cxpjEk0dG32y",
        "colab_type": "code",
        "colab": {}
      },
      "source": [
        "model.compile(optimizer=’rmsprop’, loss=’categorical_crossentropy’, metrics=[‘acc’])"
      ],
      "execution_count": 0,
      "outputs": []
    },
    {
      "cell_type": "markdown",
      "metadata": {
        "id": "3XxR4jLgG7E7",
        "colab_type": "text"
      },
      "source": [
        "setup the parameters to fit the model"
      ]
    },
    {
      "cell_type": "code",
      "metadata": {
        "id": "J65zMpPoG7wa",
        "colab_type": "code",
        "colab": {}
      },
      "source": [
        "train_samples = len(X_train) # Total Training samples\n",
        "val_samples = len(X_test)    # Total validation or test samples\n",
        "batch_size = 128\n",
        "epochs = 100"
      ],
      "execution_count": 0,
      "outputs": []
    },
    {
      "cell_type": "markdown",
      "metadata": {
        "id": "9O2koE0AG_pC",
        "colab_type": "text"
      },
      "source": [
        "Fit the model using fit_generator(). we had already created the underlying function for generating the data, generate_batch() for generating the training and the test dataset.\n",
        "steps_per_epoch is computed by dividing the total number of training samples by the batch size. When we reach the step count, we start with a new epoch"
      ]
    },
    {
      "cell_type": "code",
      "metadata": {
        "id": "O6Kz1riIHAWq",
        "colab_type": "code",
        "colab": {}
      },
      "source": [
        "model.fit_generator(generator = generate_batch(X_train, y_train, batch_size = batch_size),\n",
        "                    steps_per_epoch = train_samples//batch_size,\n",
        "                    epochs=epochs,\n",
        "                    validation_data = generate_batch(X_test, y_test, batch_size = batch_size),\n",
        "                    validation_steps = val_samples//batch_size)"
      ],
      "execution_count": 0,
      "outputs": []
    },
    {
      "cell_type": "markdown",
      "metadata": {
        "id": "4LG2wqoxHIGa",
        "colab_type": "text"
      },
      "source": [
        "Save the weights so that you can load them later for inference"
      ]
    },
    {
      "cell_type": "code",
      "metadata": {
        "id": "fN_IRL-kHKJq",
        "colab_type": "code",
        "colab": {}
      },
      "source": [
        "model.save_weights(‘nmt_weights_100epochs.h5’)"
      ],
      "execution_count": 0,
      "outputs": []
    },
    {
      "cell_type": "markdown",
      "metadata": {
        "id": "jNEwdYUuHMti",
        "colab_type": "text"
      },
      "source": [
        "Weights can be loaded from the saved weights file"
      ]
    },
    {
      "cell_type": "code",
      "metadata": {
        "id": "UKyhRTsuHMEq",
        "colab_type": "code",
        "colab": {}
      },
      "source": [
        "model.load_weights('nmt_weights_100epochs.h5')"
      ],
      "execution_count": 0,
      "outputs": []
    },
    {
      "cell_type": "markdown",
      "metadata": {
        "id": "qnjznr26HT_7",
        "colab_type": "text"
      },
      "source": [
        "Make inferences from the model"
      ]
    },
    {
      "cell_type": "code",
      "metadata": {
        "id": "NyYBffTXHUiq",
        "colab_type": "code",
        "colab": {}
      },
      "source": [
        "# Encode the input sequence to get the \"Context vectors\"\n",
        "encoder_model = Model(encoder_inputs, encoder_states)\n",
        "# Decoder setup\n",
        "# Below tensors will hold the states of the previous time step\n",
        "decoder_state_input_h = Input(shape=(latent_dim,))\n",
        "decoder_state_input_c = Input(shape=(latent_dim,))\n",
        "decoder_state_input = [decoder_state_input_h, decoder_state_input_c]\n",
        "# Get the embeddings of the decoder sequence\n",
        "dec_emb2= dec_emb_layer(decoder_inputs)\n",
        "# To predict the next word in the sequence, set the initial states to the states from the previous time step\n",
        "decoder_outputs2, state_h2, state_c2 = decoder_lstm(dec_emb2, initial_state=decoder_state_input)\n",
        "decoder_states2 = [state_h2, state_c2]\n",
        "# A dense softmax layer to generate prob dist. over the target vocabulary\n",
        "decoder_outputs2 = decoder_dense(decoder_outputs2)\n",
        "# Final decoder model\n",
        "decoder_model = Model(\n",
        "    [decoder_inputs] + decoder_state_input,\n",
        "    [decoder_outputs2] + decoder_states2)"
      ],
      "execution_count": 0,
      "outputs": []
    },
    {
      "cell_type": "markdown",
      "metadata": {
        "id": "6Hcb905LHZ9q",
        "colab_type": "text"
      },
      "source": [
        "Create a function for inference lookup"
      ]
    },
    {
      "cell_type": "code",
      "metadata": {
        "id": "i8HzUadVHZOp",
        "colab_type": "code",
        "colab": {}
      },
      "source": [
        "def decode_sequence(input_seq):\n",
        "    # Encode the input as state vectors.\n",
        "    states_value = encoder_model.predict(input_seq)\n",
        "    # Generate empty target sequence of length 1.\n",
        "    target_seq = np.zeros((1,1))\n",
        "    # Populate the first character of \n",
        "    #target sequence with the start character.\n",
        "    target_seq[0, 0] = target_word2idx['START_']\n",
        "# Sampling loop for a batch of sequences\n",
        "    # (to simplify, here we assume a batch of size 1).\n",
        "    stop_condition = False\n",
        "    decoded_sentence = ''\n",
        "    while not stop_condition:\n",
        "        output_tokens, h, c = decoder_model.predict([target_seq] + states_value)\n",
        "# Sample a token\n",
        "        sampled_token_index = np.argmax(output_tokens[0, -1, :])\n",
        "        sampled_word =target_idx2word[sampled_token_index]\n",
        "        decoded_sentence += ' '+ sampled_word\n",
        "# Exit condition: either hit max length\n",
        "        # or find stop character.\n",
        "        if (sampled_word == '_END' or\n",
        "           len(decoded_sentence) > 50):\n",
        "            stop_condition = True\n",
        "# Update the target sequence (of length 1).\n",
        "        target_seq = np.zeros((1,1))\n",
        "        target_seq[0, 0] = sampled_token_index\n",
        "# Update states\n",
        "        states_value = [h, c]\n",
        "return decoded_sentence"
      ],
      "execution_count": 0,
      "outputs": []
    },
    {
      "cell_type": "markdown",
      "metadata": {
        "id": "y_p5a32HHfhi",
        "colab_type": "text"
      },
      "source": [
        "Make predictions on the training dataset"
      ]
    },
    {
      "cell_type": "code",
      "metadata": {
        "id": "uV34v6rEHkcp",
        "colab_type": "code",
        "colab": {}
      },
      "source": [
        "train_gen = generate_batch(X_train, y_train, batch_size = 1)\n",
        "k=-1"
      ],
      "execution_count": 0,
      "outputs": []
    },
    {
      "cell_type": "markdown",
      "metadata": {
        "id": "j5-fKPVhHmjj",
        "colab_type": "text"
      },
      "source": [
        "Pass a source sentence and then compare the predicted output to actual output"
      ]
    },
    {
      "cell_type": "code",
      "metadata": {
        "id": "FKtlV40AHopy",
        "colab_type": "code",
        "colab": {}
      },
      "source": [
        "k+=1\n",
        "(input_seq, actual_output), _ = next(train_gen)\n",
        "decoded_sentence = decode_sequence(input_seq)\n",
        "print(‘Input Source sentence:’, X_train[k:k+1].values[0])\n",
        "print(‘Actual Target Translation:’, y_train[k:k+1].values[0][6:-4])\n",
        "print(‘Predicted Target Translation:’, decoded_sentence[:-4])"
      ],
      "execution_count": 0,
      "outputs": []
    },
    {
      "cell_type": "markdown",
      "metadata": {
        "id": "pXMLvHnAHs7b",
        "colab_type": "text"
      },
      "source": [
        "Make predictions on the Test dataset"
      ]
    },
    {
      "cell_type": "code",
      "metadata": {
        "id": "P14o_2B7HtbR",
        "colab_type": "code",
        "colab": {}
      },
      "source": [
        "test_gen = generate_batch(X_test, y_test, batch_size = 1)\n",
        "k=10\n",
        "k+=1\n",
        "(input_seq, actual_output), _ = next(test_gen)\n",
        "decoded_sentence = decode_sequence(input_seq)\n",
        "print('Input Source sentence:', X_test[k:k+1].values[0])\n",
        "print('Actual Target Translation:', y_test[k:k+1].values[0][6:-4])\n",
        "print('Predicted Target Translation:', decoded_sentence[:-4])"
      ],
      "execution_count": 0,
      "outputs": []
    }
  ]
}